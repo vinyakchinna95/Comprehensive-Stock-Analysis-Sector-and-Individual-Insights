{
  "nbformat": 4,
  "nbformat_minor": 0,
  "metadata": {
    "colab": {
      "provenance": [],
      "authorship_tag": "ABX9TyPVGprKY3JEIJpZhpL3C1gj"
    },
    "kernelspec": {
      "name": "python3",
      "display_name": "Python 3"
    },
    "language_info": {
      "name": "python"
    }
  },
  "cells": [
    {
      "cell_type": "code",
      "source": [
        "pip install yfinance"
      ],
      "metadata": {
        "colab": {
          "base_uri": "https://localhost:8080/"
        },
        "id": "YWcslX2JSVZr",
        "outputId": "4fc4d5be-1dc3-4136-af53-85650d5e4e47"
      },
      "execution_count": 15,
      "outputs": [
        {
          "output_type": "stream",
          "name": "stdout",
          "text": [
            "Requirement already satisfied: yfinance in /usr/local/lib/python3.10/dist-packages (0.2.50)\n",
            "Requirement already satisfied: pandas>=1.3.0 in /usr/local/lib/python3.10/dist-packages (from yfinance) (2.2.2)\n",
            "Requirement already satisfied: numpy>=1.16.5 in /usr/local/lib/python3.10/dist-packages (from yfinance) (1.26.4)\n",
            "Requirement already satisfied: requests>=2.31 in /usr/local/lib/python3.10/dist-packages (from yfinance) (2.32.3)\n",
            "Requirement already satisfied: multitasking>=0.0.7 in /usr/local/lib/python3.10/dist-packages (from yfinance) (0.0.11)\n",
            "Requirement already satisfied: lxml>=4.9.1 in /usr/local/lib/python3.10/dist-packages (from yfinance) (5.3.0)\n",
            "Requirement already satisfied: platformdirs>=2.0.0 in /usr/local/lib/python3.10/dist-packages (from yfinance) (4.3.6)\n",
            "Requirement already satisfied: pytz>=2022.5 in /usr/local/lib/python3.10/dist-packages (from yfinance) (2024.2)\n",
            "Requirement already satisfied: frozendict>=2.3.4 in /usr/local/lib/python3.10/dist-packages (from yfinance) (2.4.6)\n",
            "Requirement already satisfied: peewee>=3.16.2 in /usr/local/lib/python3.10/dist-packages (from yfinance) (3.17.8)\n",
            "Requirement already satisfied: beautifulsoup4>=4.11.1 in /usr/local/lib/python3.10/dist-packages (from yfinance) (4.12.3)\n",
            "Requirement already satisfied: html5lib>=1.1 in /usr/local/lib/python3.10/dist-packages (from yfinance) (1.1)\n",
            "Requirement already satisfied: soupsieve>1.2 in /usr/local/lib/python3.10/dist-packages (from beautifulsoup4>=4.11.1->yfinance) (2.6)\n",
            "Requirement already satisfied: six>=1.9 in /usr/local/lib/python3.10/dist-packages (from html5lib>=1.1->yfinance) (1.17.0)\n",
            "Requirement already satisfied: webencodings in /usr/local/lib/python3.10/dist-packages (from html5lib>=1.1->yfinance) (0.5.1)\n",
            "Requirement already satisfied: python-dateutil>=2.8.2 in /usr/local/lib/python3.10/dist-packages (from pandas>=1.3.0->yfinance) (2.8.2)\n",
            "Requirement already satisfied: tzdata>=2022.7 in /usr/local/lib/python3.10/dist-packages (from pandas>=1.3.0->yfinance) (2024.2)\n",
            "Requirement already satisfied: charset-normalizer<4,>=2 in /usr/local/lib/python3.10/dist-packages (from requests>=2.31->yfinance) (3.4.0)\n",
            "Requirement already satisfied: idna<4,>=2.5 in /usr/local/lib/python3.10/dist-packages (from requests>=2.31->yfinance) (3.10)\n",
            "Requirement already satisfied: urllib3<3,>=1.21.1 in /usr/local/lib/python3.10/dist-packages (from requests>=2.31->yfinance) (2.2.3)\n",
            "Requirement already satisfied: certifi>=2017.4.17 in /usr/local/lib/python3.10/dist-packages (from requests>=2.31->yfinance) (2024.12.14)\n"
          ]
        }
      ]
    },
    {
      "cell_type": "code",
      "source": [
        "pip install tabulate"
      ],
      "metadata": {
        "colab": {
          "base_uri": "https://localhost:8080/"
        },
        "id": "sW6aXspILrNb",
        "outputId": "6d0da1fe-2920-4eb6-97d6-3ded9740c85f"
      },
      "execution_count": 10,
      "outputs": [
        {
          "output_type": "stream",
          "name": "stdout",
          "text": [
            "Requirement already satisfied: tabulate in /usr/local/lib/python3.10/dist-packages (0.9.0)\n"
          ]
        }
      ]
    },
    {
      "cell_type": "code",
      "source": [
        "pip install nsetools\n"
      ],
      "metadata": {
        "colab": {
          "base_uri": "https://localhost:8080/"
        },
        "id": "N1ANy0PUdux5",
        "outputId": "cb7e0156-2407-4af5-b9aa-97ade5ff072b"
      },
      "execution_count": 1,
      "outputs": [
        {
          "output_type": "stream",
          "name": "stdout",
          "text": [
            "Collecting nsetools\n",
            "  Downloading nsetools-1.0.11-py3-none-any.whl.metadata (1.9 kB)\n",
            "Requirement already satisfied: six in /usr/local/lib/python3.10/dist-packages (from nsetools) (1.17.0)\n",
            "Collecting dateutils (from nsetools)\n",
            "  Downloading dateutils-0.6.12-py2.py3-none-any.whl.metadata (1.3 kB)\n",
            "Requirement already satisfied: python-dateutil in /usr/local/lib/python3.10/dist-packages (from dateutils->nsetools) (2.8.2)\n",
            "Requirement already satisfied: pytz in /usr/local/lib/python3.10/dist-packages (from dateutils->nsetools) (2024.2)\n",
            "Downloading nsetools-1.0.11-py3-none-any.whl (9.6 kB)\n",
            "Downloading dateutils-0.6.12-py2.py3-none-any.whl (5.7 kB)\n",
            "Installing collected packages: dateutils, nsetools\n",
            "Successfully installed dateutils-0.6.12 nsetools-1.0.11\n"
          ]
        }
      ]
    },
    {
      "cell_type": "code",
      "source": [
        "pip install alpha_vantage\n"
      ],
      "metadata": {
        "colab": {
          "base_uri": "https://localhost:8080/"
        },
        "id": "9vOmiTI2iq6v",
        "outputId": "aed829ea-7f60-486f-9ceb-222cfa1406a2"
      },
      "execution_count": 11,
      "outputs": [
        {
          "output_type": "stream",
          "name": "stdout",
          "text": [
            "Requirement already satisfied: alpha_vantage in /usr/local/lib/python3.10/dist-packages (3.0.0)\n",
            "Requirement already satisfied: aiohttp in /usr/local/lib/python3.10/dist-packages (from alpha_vantage) (3.11.10)\n",
            "Requirement already satisfied: requests in /usr/local/lib/python3.10/dist-packages (from alpha_vantage) (2.32.3)\n",
            "Requirement already satisfied: aiohappyeyeballs>=2.3.0 in /usr/local/lib/python3.10/dist-packages (from aiohttp->alpha_vantage) (2.4.4)\n",
            "Requirement already satisfied: aiosignal>=1.1.2 in /usr/local/lib/python3.10/dist-packages (from aiohttp->alpha_vantage) (1.3.2)\n",
            "Requirement already satisfied: async-timeout<6.0,>=4.0 in /usr/local/lib/python3.10/dist-packages (from aiohttp->alpha_vantage) (4.0.3)\n",
            "Requirement already satisfied: attrs>=17.3.0 in /usr/local/lib/python3.10/dist-packages (from aiohttp->alpha_vantage) (24.3.0)\n",
            "Requirement already satisfied: frozenlist>=1.1.1 in /usr/local/lib/python3.10/dist-packages (from aiohttp->alpha_vantage) (1.5.0)\n",
            "Requirement already satisfied: multidict<7.0,>=4.5 in /usr/local/lib/python3.10/dist-packages (from aiohttp->alpha_vantage) (6.1.0)\n",
            "Requirement already satisfied: propcache>=0.2.0 in /usr/local/lib/python3.10/dist-packages (from aiohttp->alpha_vantage) (0.2.1)\n",
            "Requirement already satisfied: yarl<2.0,>=1.17.0 in /usr/local/lib/python3.10/dist-packages (from aiohttp->alpha_vantage) (1.18.3)\n",
            "Requirement already satisfied: charset-normalizer<4,>=2 in /usr/local/lib/python3.10/dist-packages (from requests->alpha_vantage) (3.4.0)\n",
            "Requirement already satisfied: idna<4,>=2.5 in /usr/local/lib/python3.10/dist-packages (from requests->alpha_vantage) (3.10)\n",
            "Requirement already satisfied: urllib3<3,>=1.21.1 in /usr/local/lib/python3.10/dist-packages (from requests->alpha_vantage) (2.2.3)\n",
            "Requirement already satisfied: certifi>=2017.4.17 in /usr/local/lib/python3.10/dist-packages (from requests->alpha_vantage) (2024.12.14)\n",
            "Requirement already satisfied: typing-extensions>=4.1.0 in /usr/local/lib/python3.10/dist-packages (from multidict<7.0,>=4.5->aiohttp->alpha_vantage) (4.12.2)\n"
          ]
        }
      ]
    },
    {
      "cell_type": "code",
      "source": [
        "pip install brotli"
      ],
      "metadata": {
        "colab": {
          "base_uri": "https://localhost:8080/"
        },
        "id": "RxsXelV1RqnH",
        "outputId": "917cc556-8557-4d07-e1a7-81be014c509a"
      },
      "execution_count": 9,
      "outputs": [
        {
          "output_type": "stream",
          "name": "stdout",
          "text": [
            "Requirement already satisfied: brotli in /usr/local/lib/python3.10/dist-packages (1.1.0)\n"
          ]
        }
      ]
    },
    {
      "cell_type": "code",
      "execution_count": null,
      "metadata": {
        "colab": {
          "base_uri": "https://localhost:8080/"
        },
        "id": "hp-GzZPTHAmi",
        "outputId": "92f22bc6-9e36-4ea3-bfcf-09414faef1b7"
      },
      "outputs": [
        {
          "output_type": "stream",
          "name": "stdout",
          "text": [
            "Choose an option:\n",
            "1. Sector-Company wise Bollinger Band\n",
            "2. List of Current Nifty 50 Stocks\n"
          ]
        }
      ],
      "source": [
        "import pandas as pd\n",
        "from datetime import datetime\n",
        "from tabulate import tabulate\n",
        "import requests\n",
        "import json\n",
        "import brotli\n",
        "import yfinance as yf\n",
        "\n",
        "NSE_API_URL = \"https://www.nseindia.com/api/equity-stockIndices?index=NIFTY%2050\"\n",
        "HEADERS = {\n",
        "    \"User-Agent\": \"Mozilla/5.0 (Windows NT 10.0; Win64; x64) AppleWebKit/537.36 (KHTML, like Gecko) Chrome/91.0.4472.124 Safari/537.36\",\n",
        "    \"Accept-Encoding\": \"gzip, deflate, br\",\n",
        "    \"Accept-Language\": \"en-US,en;q=0.9\",\n",
        "    \"Accept\": \"*/*\"\n",
        "}\n",
        "\n",
        "def fetch_nifty_fifty_stocks():\n",
        "    \"\"\"Fetch current Nifty 50 stocks using NSE API.\"\"\"\n",
        "    try:\n",
        "        session = requests.Session()\n",
        "        # Fetch initial cookies\n",
        "        session.get(\"https://www.nseindia.com\", headers=HEADERS)\n",
        "        response = session.get(NSE_API_URL, headers=HEADERS)\n",
        "\n",
        "        if response.status_code != 200:\n",
        "            print(f\"Error: Unable to fetch Nifty 50 data. HTTP {response.status_code}\")\n",
        "            return {}\n",
        "\n",
        "        # Decompress Brotli response if necessary\n",
        "        if \"br\" in response.headers.get(\"Content-Encoding\", \"\"):\n",
        "            decompressed_data = brotli.decompress(response.content)\n",
        "        else:\n",
        "            decompressed_data = response.content\n",
        "\n",
        "        # Parse JSON data\n",
        "        json_data = json.loads(decompressed_data)\n",
        "        stock_list = json_data.get(\"data\", [])\n",
        "\n",
        "        stock_data = {}\n",
        "        for stock in stock_list:\n",
        "            symbol = stock.get(\"symbol\", \"N/A\")\n",
        "            last_price = stock.get(\"lastPrice\", \"N/A\")\n",
        "            stock_data[symbol] = last_price\n",
        "\n",
        "        return stock_data\n",
        "    except Exception as e:\n",
        "        print(f\"Error fetching Nifty 50 stocks: {e}\")\n",
        "        return {}\n",
        "\n",
        "def load_sector_tickers(csv_file):\n",
        "    \"\"\"Load sector tickers from a CSV file.\"\"\"\n",
        "    sector_tickers = {}\n",
        "    try:\n",
        "        df = pd.read_csv(csv_file)\n",
        "        for sector in df['Sector'].unique():\n",
        "            sector_tickers[sector] = df[df['Sector'] == sector]['Ticker'].tolist()\n",
        "    except Exception as e:\n",
        "        print(f\"Error loading sector tickers from CSV: {e}\")\n",
        "    return sector_tickers\n",
        "\n",
        "def analyze_bollinger_band(ticker_symbol, period=None, start_date=None, end_date=None):\n",
        "    \"\"\"Calculate Bollinger Bands for a specific ticker.\"\"\"\n",
        "    try:\n",
        "        ticker_data = yf.Ticker(ticker_symbol)\n",
        "        if period:\n",
        "            df = ticker_data.history(period=period)\n",
        "        elif start_date and end_date:\n",
        "            df = ticker_data.history(start=start_date, end=end_date)\n",
        "        else:\n",
        "            print(\"Error: No valid timeframe selected.\")\n",
        "            return None\n",
        "\n",
        "        if len(df) < 20:\n",
        "            print(f\"Error: Not enough data for Bollinger Bands calculation for {ticker_symbol}.\")\n",
        "            return None\n",
        "\n",
        "        df['SMA'] = df['Close'].rolling(window=20).mean()\n",
        "        df['SD'] = df['Close'].rolling(window=20).std()\n",
        "        df['UB'] = df['SMA'] + 2 * df['SD']\n",
        "        df['LB'] = df['SMA'] - 2 * df['SD']\n",
        "\n",
        "        data = df[['Open', 'High', 'Low', 'Close', 'Volume', 'SMA', 'UB', 'LB']].tail()\n",
        "        return data\n",
        "    except Exception as e:\n",
        "        print(f\"Error analyzing {ticker_symbol}: {e}\")\n",
        "        return None\n",
        "\n",
        "def select_timeframe():\n",
        "    \"\"\"Prompt user to select a timeframe.\"\"\"\n",
        "    print(\"Choose the timeframe for analysis:\")\n",
        "    print(\"1. 1 Day (1d)\")\n",
        "    print(\"2. 5 Days (5d)\")\n",
        "    print(\"3. 1 Month (1mo)\")\n",
        "    print(\"4. 3 Months (3mo)\")\n",
        "    print(\"5. 6 Months (6mo)\")\n",
        "    print(\"6. 1 Year (1y)\")\n",
        "    print(\"7. 2 Years (2y)\")\n",
        "    print(\"8. 5 Years (5y)\")\n",
        "    print(\"9. Custom Range\")\n",
        "\n",
        "    timeframe_choice = input(\"Enter your choice: \")\n",
        "    timeframe_map = {\n",
        "        '1': '1d', '2': '5d', '3': '1mo', '4': '3mo',\n",
        "        '5': '6mo', '6': '1y', '7': '2y', '8': '5y'\n",
        "    }\n",
        "\n",
        "    if timeframe_choice in timeframe_map:\n",
        "        return timeframe_map[timeframe_choice]\n",
        "    elif timeframe_choice == '9':\n",
        "        start_date = input(\"Enter start date (YYYY-MM-DD): \")\n",
        "        end_date = input(\"Enter end date (YYYY-MM-DD): \")\n",
        "        try:\n",
        "            datetime.strptime(start_date, '%Y-%m-%d')\n",
        "            datetime.strptime(end_date, '%Y-%m-%d')\n",
        "            return (start_date, end_date)\n",
        "        except ValueError:\n",
        "            print(\"Error: Invalid date format. Please use YYYY-MM-DD.\")\n",
        "            return None\n",
        "    else:\n",
        "        print(\"Error: Invalid choice.\")\n",
        "        return None\n",
        "\n",
        "def main():\n",
        "    print(\"Choose an option:\")\n",
        "    print(\"1. Sector-Company wise Bollinger Band\")\n",
        "    print(\"2. List of Current Nifty 50 Stocks\")\n",
        "    choice = input(\"Enter your choice: \")\n",
        "\n",
        "    if choice == '1':\n",
        "        sector_tickers = load_sector_tickers('sectordata.csv')\n",
        "        if not sector_tickers:\n",
        "            print(\"Error: Could not load sector tickers.\")\n",
        "            return\n",
        "\n",
        "        print(\"Available Sectors:\")\n",
        "        for sector in sector_tickers.keys():\n",
        "            print(sector)\n",
        "\n",
        "        sector_name = input(\"Enter the sector name: \")\n",
        "        if sector_name not in sector_tickers:\n",
        "            print(\"Error: Invalid sector name.\")\n",
        "            return\n",
        "\n",
        "        print(f\"Available companies in {sector_name}:\")\n",
        "        companies = sector_tickers[sector_name]\n",
        "        for company in companies:\n",
        "            print(company)\n",
        "\n",
        "        selected_company = input(\"Enter the company ticker: \")\n",
        "        if selected_company not in companies:\n",
        "            print(\"Error: Invalid company ticker.\")\n",
        "            return\n",
        "\n",
        "        timeframe = select_timeframe()\n",
        "        if timeframe:\n",
        "            data = analyze_bollinger_band(selected_company, period=timeframe)\n",
        "            if data is not None:\n",
        "                print(tabulate(data, headers='keys', tablefmt='pretty'))\n",
        "\n",
        "    elif choice == '2':\n",
        "        nifty50_stocks = fetch_nifty_fifty_stocks()\n",
        "        if not nifty50_stocks:\n",
        "            print(\"Error: Could not fetch Nifty 50 stocks.\")\n",
        "            return\n",
        "\n",
        "        print(\"Current Nifty 50 Stocks and Prices:\")\n",
        "        for stock, price in nifty50_stocks.items():\n",
        "            print(f\"{stock}: {price} INR\")\n",
        "\n",
        "    else:\n",
        "        print(\"Error: Invalid choice.\")\n",
        "\n",
        "if __name__ == \"__main__\":\n",
        "    main()\n"
      ]
    }
  ]
}